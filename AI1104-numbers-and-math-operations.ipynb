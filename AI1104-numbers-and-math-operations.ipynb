{
 "cells": [
  {
   "cell_type": "code",
   "execution_count": null,
   "metadata": {
    "id": "VZ5ow0GaSjNn"
   },
   "outputs": [
    {
     "ename": "",
     "evalue": "",
     "output_type": "error",
     "traceback": [
      "\u001b[1;31mRunning cells with 'Python 3.12.3' requires the ipykernel package.\n",
      "\u001b[1;31m<a href='command:jupyter.createPythonEnvAndSelectController'>Create a Python Environment</a> with the required packages.\n",
      "\u001b[1;31mOr install 'ipykernel' using the command: '/usr/bin/python3 -m pip install ipykernel -U --user --force-reinstall'"
     ]
    }
   ],
   "source": [
    "# basic operators: +, -, *, /, **, //, %\n",
    "# + : addition\n",
    "# - : subtraction\n",
    "# * : multiplication\n",
    "# / : division\n",
    "# ** : power / exponentiation\n",
    "# // : integer division\n",
    "# % : modulus/modulo (remainder of division)"
   ]
  },
  {
   "cell_type": "markdown",
   "metadata": {
    "id": "Q0u3P9OvSCqe"
   },
   "source": [
    "## Integer division"
   ]
  },
  {
   "cell_type": "code",
   "execution_count": null,
   "metadata": {
    "id": "MMjpvTSx6JY-"
   },
   "outputs": [
    {
     "ename": "",
     "evalue": "",
     "output_type": "error",
     "traceback": [
      "\u001b[1;31mRunning cells with 'Python 3.12.3' requires the ipykernel package.\n",
      "\u001b[1;31m<a href='command:jupyter.createPythonEnvAndSelectController'>Create a Python Environment</a> with the required packages.\n",
      "\u001b[1;31mOr install 'ipykernel' using the command: '/usr/bin/python3 -m pip install ipykernel -U --user --force-reinstall'"
     ]
    }
   ],
   "source": [
    "# integer division operator: //\n",
    "# rounds down the result\n",
    "\n",
    "9 // 3"
   ]
  },
  {
   "cell_type": "code",
   "execution_count": null,
   "metadata": {
    "id": "3yhu8gQGSL0T"
   },
   "outputs": [],
   "source": [
    "-3 // 2"
   ]
  },
  {
   "cell_type": "code",
   "execution_count": null,
   "metadata": {
    "id": "8FCd4C9TSU-R"
   },
   "outputs": [],
   "source": [
    "1 / 0  # division by zero"
   ]
  },
  {
   "cell_type": "markdown",
   "metadata": {
    "id": "vfAj2PcxSeNG"
   },
   "source": [
    "## Modulus operator\n",
    "Use the formula `r = x - y * (x // y)` to get the result of `r = x % y`\n",
    "\n",
    "\n",
    "\n"
   ]
  },
  {
   "cell_type": "code",
   "execution_count": null,
   "metadata": {
    "id": "DC9YpKb_Sax-"
   },
   "outputs": [],
   "source": [
    "  5 % 3"
   ]
  },
  {
   "cell_type": "code",
   "execution_count": null,
   "metadata": {
    "id": "bovki3VoTnTa"
   },
   "outputs": [],
   "source": [
    "-5 % 3"
   ]
  },
  {
   "cell_type": "code",
   "execution_count": null,
   "metadata": {
    "id": "FL4NWQ5aTpfU"
   },
   "outputs": [],
   "source": [
    "5 % -3"
   ]
  },
  {
   "cell_type": "code",
   "execution_count": null,
   "metadata": {
    "id": "pw8xb3lzTsGu"
   },
   "outputs": [],
   "source": [
    "-5 % -3"
   ]
  },
  {
   "cell_type": "markdown",
   "metadata": {
    "id": "vDgbT5eaT-C2"
   },
   "source": [
    "## Printing Numbers in Style"
   ]
  },
  {
   "cell_type": "code",
   "execution_count": null,
   "metadata": {
    "id": "ol8xBZAhUBqS"
   },
   "outputs": [],
   "source": [
    "n = 7.125\n",
    "f\"The value of n is {n}\""
   ]
  },
  {
   "cell_type": "code",
   "execution_count": null,
   "metadata": {
    "id": "1oaNdyKFUEtM"
   },
   "outputs": [],
   "source": [
    "n = 7.125\n",
    "f\"The value of n is {n:.2f}\""
   ]
  },
  {
   "cell_type": "code",
   "execution_count": null,
   "metadata": {
    "id": "GBt_avxPUHt9"
   },
   "outputs": [],
   "source": [
    "n = 1_234_567_890\n",
    "m = 1_00_00_00_00_00_00_00_000\n",
    "f\"The value of n is {n:,}\"\n"
   ]
  },
  {
   "cell_type": "code",
   "execution_count": null,
   "metadata": {
    "id": "1BMxncO7UdN-"
   },
   "outputs": [],
   "source": [
    "n = 1234.56\n",
    "f\"The value of n is {n:,.2f}\""
   ]
  },
  {
   "cell_type": "code",
   "execution_count": null,
   "metadata": {
    "id": "lTZgCsaGUjuE"
   },
   "outputs": [],
   "source": [
    "ratio = 0.95278\n",
    "f\"The above ratio in percentage is {ratio:.3%}\""
   ]
  }
 ],
 "metadata": {
  "colab": {
   "authorship_tag": "ABX9TyOHm7MNThYLZ1/1GCW6ifT3",
   "private_outputs": true,
   "provenance": []
  },
  "kernelspec": {
   "display_name": "Python 3",
   "name": "python3"
  },
  "language_info": {
   "name": "python",
   "version": "3.12.3"
  }
 },
 "nbformat": 4,
 "nbformat_minor": 0
}
